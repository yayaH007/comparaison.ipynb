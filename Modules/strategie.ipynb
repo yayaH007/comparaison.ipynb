{
 "cells": [
  {
   "cell_type": "code",
   "execution_count": 2,
   "metadata": {
    "collapsed": true,
    "pycharm": {
     "name": "#%%\n"
    }
   },
   "outputs": [],
   "source": [
    "from strategie import strategie,teststrategie\n",
    "import sqlite3\n",
    "import itertools\n",
    "import pickle\n",
    "import pandas as pd\n",
    "import matplotlib.pyplot as plt"
   ]
  },
  {
   "cell_type": "code",
   "execution_count": 3,
   "outputs": [
    {
     "name": "stdout",
     "output_type": "stream",
     "text": [
      "achatoupas [0, 0, 0, 0, 0, 0, 0, 0, 0, 0, 0, 0, 0, 0, 0, 0, 0, 0, 0, 0, 0, 0, 0, 0, 0, 0, 0, 0, 0, 0, 0, 0, 0, 0, 0, 0, 0, 0, 0, 0, 0, 0, 0, 0, 0, 0, 0, 0, 0, 0, 0, 0, 0, 0, 0, 0, 0, 0, 0, 0, 0, 0, 0, 0, 0, 0, 0, 0, 0, 0, 0, 0, 0, 0, 0, 0, 0, 0, 0, 0, 0, 0, 0, 0, 0, 0, 0, 0, 0, 0, 0, 0, 0, 0, 0, 0, 0, 0, 0, 0, 0, 0, 0, 0, 0, 0, 0, 0, 0, 0, 0, 0, 0, 0, 0, 0, 0, 0, 0, 0, 0, 0, 0, 0, 0, 0, 0, 0, 0, 0, 0, 0, 0, 0, 1]\n",
      "venteavecgain [0, 0, 0, 0, 0, 0, 0, 0, 0, 0, 0, 0, 0, 0, 0, 0, 0, 0, 0, 0, 0, 0, 0, 0, 0, 0, 0, 0, 0, 0, 0, 0, 0, 0, 0, 0, 0, 0, 0, 0, 0, 0, 0, 0, 0, 0, 0, 0, 0, 0, 0, 0, 0, 0, 0, 0, 0, 0, 0, 0, 0, 0, 0, 0, 0, 0, 0, 0, 0, 0, 0, 0, 0, 0, 0, 0, 0, 0, 0, 0, 0, 0, 0, 0, 0, 0, 0, 0, 0, 0, 0, 0, 0, 0, 0, 0, 0, 0, 0, 0, 0, 0, 0, 0, 0, 0, 0, 0, 0, 0, 0, 0, 0, 0, 0, 0, 0, 0, 0, 0, 0, 0, 0, 0, 0, 0, 0, 0, 0, 0, 0, 0, 0, 0, 1]\n",
      "listedatebas ['2020-12-15']\n",
      "listeprixbas [124.8]\n",
      "listeprixvente [157.3]\n",
      "listedatevente ['2020-12-18']\n",
      "135 135 1 1 1 1\n",
      "lll [0, 0, 0, 0, 0, 0, 0, 0, 0, 0, 0, 0, 1, 1, 1, 0, 0, 0, 1, 1, 1, 1, 1, 1, 1, 1, 1, 1, 1, 1, 1, 1, 1, 1, 1, 0, 0, 0, 0, 0, 0, 0, 0, 0, 1, 0, 0, 0, 1, 0, 1, 1, 1, 1, 1, 1, 1, 1, 1, 1, 1, 1, 0, 0, 1, 0, 0, 0, 0, 0, 0, 0, 0, 0, 0, 0, 0, 1, 1, 0, 0, 0, 0, 1, 1, 0, 1, 0, 1, 1, 1, 0, 0, 0, 0, 0, 0, 0, 0, 1, 1, 1, 1, 0, 0, 0, 0, 1, 0, 1, 1, 1, 1, 1, 1, 1, 1, 1, 1, 1, 1, 1, 1, 1, 1, 1, 1, 1, 1, 0, 1, 1, 0, 1, 1, 1, 1, 1, 1, 1, 1, 1, 1, 1, 0, 0, 1, 1, 1, 1, 1, 1, 1, 1, 1, 1, 1, 1, 1, 1, 1, 1, 1, 1, 1, 1, 1, 1, 1, 1, 1, 1, 1, 1, 1, 0, 0, 1, 1, 1, 1, 1, 1, 1, 1, 1, 1, 1, 1, 1, 1, 1, 1, 0, 0, 0, 0, 0, 0, 0, 0, 0, 0, 0, 0, 1, 0, 0, 0, 1, 1, 1, 0, 1, 1, 1, 1, 1, 1, 1, 1, 1, 1, 1, 1, 1, 1, 1, 1, 1, 1, 1, 1, 1, 1, 0, 0, 0, 0, 0, 0, 0, 0, 0, 0, 0, 0, 0, 0, 0, 0, 0, 0, 0, 1, 1, 1, 0, 0, 0, 0, 0, 0, 0, 0, 0, 0, 0, 0, 0, 0, 1, 1, 1, 0, 0, 0, 0, 0, 0, 1, 1, 1, 1, 1, 1, 1, 1, 0, 0, 0, 0, 0, 0, 0, 1, 1, 0, 1, 0, 1, 1, 1, 1, 1, 1, 1, 1, 1, 1, 1, 1, 1, 1, 1, 1, 1, 1, 1, 1, 1, 1, 1, 1, 1, 1, 1, 1, 1, 1, 1, 0, 1, 0, 0, 1, 1, 1, 1, 1, 1, 1, 1, 1, 1, 1, 1]\n",
      "1 0\n",
      "{'Ratio Moyen du gain ': 0.2604166666666668, 'Precision': 1.0, 'nb_strategie_excute': 1}\n"
     ]
    }
   ],
   "source": [
    "parametre={\n",
    "    'periode_analyse_cours_action':\"Month\",\n",
    "    'centile_max_action' : 0.4,\n",
    "    'type_moyenne_glissante_cac':\"Trimester\",\n",
    "    'centile_max_cac' : 0.5,\n",
    "    'taux_gain':0.2,\n",
    "    'periode_attente_vente':60,\n",
    "}\n",
    "\n",
    "name=\"Airbnb\"\n",
    "print(teststrategie(name,parametre))"
   ],
   "metadata": {
    "collapsed": false,
    "pycharm": {
     "name": "#%%\n"
    }
   }
  },
  {
   "cell_type": "code",
   "execution_count": null,
   "outputs": [],
   "source": [
    "grid_params={\n",
    "    'periode_analyse_cours_action':[\"Trimester\",\"Year\",\"Month\"],\n",
    "    'centile_max_action' : [0.5,0.4,0.3],\n",
    "    'type_moyenne_glissante_cac':[\"Month\",\"Trimester\",\"Week\"],\n",
    "    'centile_max_cac' : [0.5,0.4,0.3],\n",
    "    'taux_gain':[0.05,0.1,0.15,0.2],\n",
    "    'periode_attente_vente':[90,60,30,20]\n",
    "}\n"
   ],
   "metadata": {
    "collapsed": false,
    "pycharm": {
     "name": "#%%\n"
    }
   }
  },
  {
   "cell_type": "code",
   "execution_count": null,
   "outputs": [],
   "source": [
    "simulations_to_run = [dict(zip(grid_params.keys(), _)) for _ in itertools.product(*grid_params.values())]\n",
    "simulations_to_run = [frozenset(simulation.items()) for simulation in simulations_to_run]\n",
    "len(simulations_to_run)\n"
   ],
   "metadata": {
    "collapsed": false,
    "pycharm": {
     "name": "#%%\n"
    }
   }
  },
  {
   "cell_type": "code",
   "execution_count": null,
   "outputs": [],
   "source": [
    "try:\n",
    "    with open('grid_search_'+name+'.pickle', 'rb') as fd:\n",
    "        simulation_scores = pickle.load(fd)\n",
    "except FileNotFoundError:\n",
    "    simulation_scores = {}\n"
   ],
   "metadata": {
    "collapsed": false,
    "pycharm": {
     "name": "#%%\n"
    }
   }
  },
  {
   "cell_type": "code",
   "execution_count": null,
   "outputs": [],
   "source": [
    "for params in simulations_to_run:\n",
    "    dict_params = dict(params)\n",
    "    if params in simulation_scores:\n",
    "        print(f\"Not running {dict_params}\")\n",
    "    else:\n",
    "        print(f\"Running {dict_params}\")\n",
    "        scores = teststrategie(name,dict_params)\n",
    "        simulation_scores[params] = scores\n",
    "        with open('grid_search_'+name+'.pickle', 'wb') as fd:\n",
    "            pickle.dump(simulation_scores, fd)\n",
    "\n"
   ],
   "metadata": {
    "collapsed": false,
    "pycharm": {
     "name": "#%%\n"
    }
   }
  },
  {
   "cell_type": "code",
   "execution_count": null,
   "outputs": [],
   "source": [
    "liste=[]\n",
    "for k, v in simulation_scores.items() :\n",
    "    print(v)"
   ],
   "metadata": {
    "collapsed": false,
    "pycharm": {
     "name": "#%%\n"
    }
   }
  },
  {
   "cell_type": "code",
   "execution_count": null,
   "outputs": [],
   "source": [
    "\n",
    "scores_df = pd.DataFrame(dict(k) | v for k, v in simulation_scores.items() if k in simulations_to_run and type(v)==dict )\n",
    "scores_df.rename(columns = {'Ratio Moyen du gain ':'MeanGain'}, inplace = True)\n",
    "scores_df[\"risque\"]=1-scores_df[\"Precision\"]\n"
   ],
   "metadata": {
    "collapsed": false,
    "pycharm": {
     "name": "#%%\n"
    }
   }
  },
  {
   "cell_type": "code",
   "execution_count": null,
   "outputs": [],
   "source": [
    "scores_df.pipe(lambda x: x[x.Precision == x.Precision.max()]  )"
   ],
   "metadata": {
    "collapsed": false,
    "pycharm": {
     "name": "#%%\n"
    }
   }
  },
  {
   "cell_type": "code",
   "execution_count": null,
   "outputs": [],
   "source": [
    "scores_df.pipe(lambda x: x[x.taux_gain==0.05 ]  )"
   ],
   "metadata": {
    "collapsed": false,
    "pycharm": {
     "name": "#%%\n"
    }
   }
  },
  {
   "cell_type": "code",
   "execution_count": null,
   "outputs": [],
   "source": [
    "scores_df.pipe(lambda x: x[x.MeanGain == x.MeanGain.max() ])\n"
   ],
   "metadata": {
    "collapsed": false,
    "pycharm": {
     "name": "#%%\n"
    }
   }
  },
  {
   "cell_type": "code",
   "execution_count": null,
   "outputs": [],
   "source": [
    "scores_df.pipe(lambda x: x[x.Precision > 0.5]).plot.scatter('Precision', 'MeanGain', figsize=(10, 10), s=70, alpha=0.5)\n",
    "plt.xlim([0.3, 1.1])\n",
    "plt.ylim([0, 0.3])\n",
    "plt.savefig('gridsearch_gainprecision'+name+'.png')"
   ],
   "metadata": {
    "collapsed": false,
    "pycharm": {
     "name": "#%%\n"
    }
   }
  },
  {
   "cell_type": "markdown",
   "source": [
    "Risque LVMH"
   ],
   "metadata": {
    "collapsed": false,
    "pycharm": {
     "name": "#%% md\n"
    }
   }
  },
  {
   "cell_type": "code",
   "execution_count": null,
   "outputs": [],
   "source": [
    "name=\"LVMH\"\n",
    "try:\n",
    "    with open('nuage_point_nbstrat_' + name + '.pickle', 'rb') as fd:\n",
    "        simulation_scores = pickle.load(fd)\n",
    "except FileNotFoundError:\n",
    "    simulation_scores = {}\n",
    "\n",
    "for params in simulations_to_run:\n",
    "    dict_params = dict(params)\n",
    "    if params in simulation_scores:\n",
    "        print(f\"Not running {dict_params}\")\n",
    "    else:\n",
    "        print(f\"Running {dict_params}\")\n",
    "        scores = teststrategie(name, dict_params)\n",
    "        simulation_scores[params] = scores\n",
    "        with open('nuage_point_nbstrat_' + name + '.pickle', 'wb') as fd:\n",
    "            pickle.dump(simulation_scores, fd)"
   ],
   "metadata": {
    "collapsed": false,
    "pycharm": {
     "name": "#%%\n"
    }
   }
  },
  {
   "cell_type": "code",
   "execution_count": null,
   "outputs": [],
   "source": [
    "scores_df = pd.DataFrame(dict(k) | v for k, v in simulation_scores.items() if k in simulations_to_run and type(v)==dict )\n",
    "scores_df.rename(columns = {'Ratio Moyen du gain ':'MeanGain'}, inplace = True)\n",
    "scores_df[\"risque\"]=1-scores_df[\"Precision\"]\n",
    "print(scores_df)\n"
   ],
   "metadata": {
    "collapsed": false,
    "pycharm": {
     "name": "#%%\n"
    }
   }
  },
  {
   "cell_type": "code",
   "execution_count": null,
   "outputs": [],
   "source": [
    "scores_df[\"c1\"] = (scores_df[\"nb_strategie_excute\"] / 103) * (\n",
    "            scores_df[\"nb_strategie_excute\"] / 103) - (scores_df[\"risque\"]) * (scores_df[\"risque\"])\n",
    "\n",
    "scores_df.pipe(lambda x: x[x.taux_gain==0.2 ]).pipe(lambda x: x[x.risque<0.5 ]).pipe(lambda x: x[x.MeanGain>0.10 ])\n"
   ],
   "metadata": {
    "collapsed": false,
    "pycharm": {
     "name": "#%%\n"
    }
   }
  },
  {
   "cell_type": "code",
   "execution_count": null,
   "outputs": [],
   "source": [
    "\n",
    "scores_df.pipe(lambda x: x[ x.taux_gain==0.2]).plot.scatter('risque', 'nb_strategie_excute', figsize=(10, 10), s=70, alpha=0.5)\n",
    "\"\"\"plt.xlim([0, 1.1])\n",
    "plt.ylim([0, 0.3])\"\"\"\n",
    "plt.savefig('precision_nbstart'+name+'.png')"
   ],
   "metadata": {
    "collapsed": false,
    "pycharm": {
     "name": "#%%\n"
    }
   }
  },
  {
   "cell_type": "markdown",
   "source": [
    "Risque Total"
   ],
   "metadata": {
    "collapsed": false,
    "pycharm": {
     "name": "#%% md\n"
    }
   }
  },
  {
   "cell_type": "code",
   "execution_count": null,
   "outputs": [],
   "source": [
    "name=\"Total\"\n",
    "try:\n",
    "    with open('nuage_point_nbstrat_' + name + '.pickle', 'rb') as fd:\n",
    "        simulation_scores_total = pickle.load(fd)\n",
    "except FileNotFoundError:\n",
    "    simulation_scores_total = {}\n",
    "\n",
    "for params in simulations_to_run:\n",
    "    dict_params = dict(params)\n",
    "    if params in simulation_scores_total:\n",
    "        print(f\"Not running {dict_params}\")\n",
    "    else:\n",
    "        print(f\"Running {dict_params}\")\n",
    "        scores = teststrategie(name, dict_params)\n",
    "        simulation_scores_total[params] = scores\n",
    "        with open('nuage_point_nbstrat_' + name + '.pickle', 'wb') as fd:\n",
    "            pickle.dump(simulation_scores_total, fd)"
   ],
   "metadata": {
    "collapsed": false,
    "pycharm": {
     "name": "#%%\n"
    }
   }
  },
  {
   "cell_type": "code",
   "execution_count": null,
   "outputs": [],
   "source": [
    "scores_df_total = pd.DataFrame(dict(k) | v for k, v in simulation_scores_total.items() if k in simulations_to_run and type(v)==dict )\n",
    "scores_df_total.rename(columns = {'Ratio Moyen du gain ':'MeanGain'}, inplace = True)\n",
    "scores_df_total[\"risque\"]=1-scores_df_total[\"Precision\"]\n",
    "scores_df_total[\"c1\"]=-scores_df_total[\"risque\"]**2+scores_df_total[\"nb_strategie_excute\"]/200\n",
    "print(scores_df_total)"
   ],
   "metadata": {
    "collapsed": false,
    "pycharm": {
     "name": "#%%\n"
    }
   }
  },
  {
   "cell_type": "code",
   "execution_count": null,
   "outputs": [],
   "source": [
    "scores_df_total.pipe(lambda x: x[x.Precision == x.Precision.max()])"
   ],
   "metadata": {
    "collapsed": false,
    "pycharm": {
     "name": "#%%\n"
    }
   }
  },
  {
   "cell_type": "code",
   "execution_count": null,
   "outputs": [],
   "source": [
    "scores_df_total.pipe(lambda x: x[ x.taux_gain==0.2]).plot.scatter('risque', 'nb_strategie_excute', figsize=(10, 10), s=70, alpha=0.5)\n",
    "plt.savefig('precision_nbstart'+name+'.png')"
   ],
   "metadata": {
    "collapsed": false,
    "pycharm": {
     "name": "#%%\n"
    }
   }
  },
  {
   "cell_type": "code",
   "execution_count": null,
   "outputs": [],
   "source": [
    "scores_df_total[\"c1\"]=(scores_df_total[\"nb_strategie_excute\"]/121)*(scores_df_total[\"nb_strategie_excute\"]/121)-(scores_df_total[\"risque\"])*(scores_df_total[\"risque\"])"
   ],
   "metadata": {
    "collapsed": false,
    "pycharm": {
     "name": "#%%\n"
    }
   }
  },
  {
   "cell_type": "code",
   "execution_count": null,
   "outputs": [],
   "source": [
    "scores_df_total.pipe(lambda x: x[x.taux_gain==0.2 ]).pipe(lambda x: x[x.risque<0.5 ]).pipe(lambda x: x[x.MeanGain>0.15 ])"
   ],
   "metadata": {
    "collapsed": false,
    "pycharm": {
     "name": "#%%\n"
    }
   }
  }
 ],
 "metadata": {
  "kernelspec": {
   "display_name": "Python 3",
   "language": "python",
   "name": "python3"
  },
  "language_info": {
   "codemirror_mode": {
    "name": "ipython",
    "version": 2
   },
   "file_extension": ".py",
   "mimetype": "text/x-python",
   "name": "python",
   "nbconvert_exporter": "python",
   "pygments_lexer": "ipython2",
   "version": "2.7.6"
  }
 },
 "nbformat": 4,
 "nbformat_minor": 0
}